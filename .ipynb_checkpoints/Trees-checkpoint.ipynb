{
 "cells": [
  {
   "cell_type": "markdown",
   "metadata": {},
   "source": [
    "## Tree Representation as a List of Lists"
   ]
  },
  {
   "cell_type": "code",
   "execution_count": 3,
   "metadata": {},
   "outputs": [],
   "source": [
    "def BinaryTree(r):\n",
    "    return [r,[],[]]"
   ]
  },
  {
   "cell_type": "code",
   "execution_count": 4,
   "metadata": {},
   "outputs": [],
   "source": [
    "def insertLeft(root,newBranch):\n",
    "    t = root.pop(1)\n",
    "    \n",
    "    if len(t) > 1:\n",
    "        root.insert(1,[newBranch,t,[]])\n",
    "    else: \n",
    "        root.insert(1,[newBranch,[],[]])\n",
    "        \n",
    "    return root"
   ]
  },
  {
   "cell_type": "code",
   "execution_count": 5,
   "metadata": {},
   "outputs": [],
   "source": [
    "def insertRight(root,newBranch):\n",
    "    \n",
    "    t = root.pop(2)\n",
    "    \n",
    "    if len(t) > 1:\n",
    "        root.insert(2,[newBranch,[],t])\n",
    "    else:\n",
    "        root.insert(2,[newBranch,[],[]])\n",
    "        \n",
    "    return root"
   ]
  },
  {
   "cell_type": "code",
   "execution_count": 6,
   "metadata": {},
   "outputs": [],
   "source": [
    "def getRootval(root):\n",
    "    return root[0]"
   ]
  },
  {
   "cell_type": "code",
   "execution_count": 7,
   "metadata": {},
   "outputs": [],
   "source": [
    "def setRootVal(root,newVal):\n",
    "    root[0] = newVal"
   ]
  },
  {
   "cell_type": "code",
   "execution_count": 8,
   "metadata": {},
   "outputs": [],
   "source": [
    "def getLeftChild(root):\n",
    "    return root[1]"
   ]
  },
  {
   "cell_type": "code",
   "execution_count": 9,
   "metadata": {},
   "outputs": [],
   "source": [
    "def getRightChild(root):\n",
    "    return root[2]"
   ]
  },
  {
   "cell_type": "code",
   "execution_count": 10,
   "metadata": {},
   "outputs": [],
   "source": [
    "r = BinaryTree(3)"
   ]
  },
  {
   "cell_type": "code",
   "execution_count": 11,
   "metadata": {},
   "outputs": [
    {
     "data": {
      "text/plain": [
       "[3, [4, [], []], []]"
      ]
     },
     "execution_count": 11,
     "metadata": {},
     "output_type": "execute_result"
    }
   ],
   "source": [
    "insertLeft(r,4)"
   ]
  },
  {
   "cell_type": "code",
   "execution_count": 12,
   "metadata": {},
   "outputs": [
    {
     "data": {
      "text/plain": [
       "[3, [5, [4, [], []], []], []]"
      ]
     },
     "execution_count": 12,
     "metadata": {},
     "output_type": "execute_result"
    }
   ],
   "source": [
    "insertLeft(r,5)"
   ]
  },
  {
   "cell_type": "code",
   "execution_count": 13,
   "metadata": {},
   "outputs": [
    {
     "data": {
      "text/plain": [
       "[3, [5, [4, [], []], []], [6, [], []]]"
      ]
     },
     "execution_count": 13,
     "metadata": {},
     "output_type": "execute_result"
    }
   ],
   "source": [
    "insertRight(r,6)"
   ]
  },
  {
   "cell_type": "code",
   "execution_count": 14,
   "metadata": {},
   "outputs": [
    {
     "data": {
      "text/plain": [
       "[3, [5, [4, [], []], []], [7, [], [6, [], []]]]"
      ]
     },
     "execution_count": 14,
     "metadata": {},
     "output_type": "execute_result"
    }
   ],
   "source": [
    "insertRight(r,7)"
   ]
  },
  {
   "cell_type": "code",
   "execution_count": 15,
   "metadata": {},
   "outputs": [],
   "source": [
    "l = getLeftChild(r)"
   ]
  },
  {
   "cell_type": "code",
   "execution_count": 16,
   "metadata": {
    "scrolled": true
   },
   "outputs": [
    {
     "data": {
      "text/plain": [
       "[5, [4, [], []], []]"
      ]
     },
     "execution_count": 16,
     "metadata": {},
     "output_type": "execute_result"
    }
   ],
   "source": [
    "l"
   ]
  },
  {
   "cell_type": "code",
   "execution_count": 17,
   "metadata": {},
   "outputs": [],
   "source": [
    "setRootVal(l,9)"
   ]
  },
  {
   "cell_type": "code",
   "execution_count": 30,
   "metadata": {},
   "outputs": [
    {
     "data": {
      "text/plain": [
       "[3, [9, [4, [], []], []], [7, [], [6, [], []]]]"
      ]
     },
     "execution_count": 30,
     "metadata": {},
     "output_type": "execute_result"
    }
   ],
   "source": [
    "r"
   ]
  },
  {
   "cell_type": "markdown",
   "metadata": {},
   "source": [
    "## Nodes and Refrences Implementation"
   ]
  },
  {
   "cell_type": "code",
   "execution_count": 1,
   "metadata": {},
   "outputs": [],
   "source": [
    "class BinaryTree(object):\n",
    "    \n",
    "    def __init__(self,rootObj):\n",
    "        self.key = rootObj\n",
    "        self.leftChild = None\n",
    "        self.rightChild = None\n",
    "        \n",
    "    def insertLeft(self,newNode):\n",
    "        if self.leftChild == None:\n",
    "            self.leftChild = BinaryTree(newNode)\n",
    "        else:\n",
    "            t = BinaryTree(newNode)\n",
    "            t.leftChild = self.leftChild\n",
    "            self.leftChild = t\n",
    "    \n",
    "    def insertRight(self,newNode):\n",
    "        if self.rightChild == None:\n",
    "            self.rightChild = BinaryTree(newNode)\n",
    "        else:\n",
    "            t = BinaryTree(newNode)\n",
    "            t.rightChild = self.rightChild\n",
    "            self.rightChild = t\n",
    "    \n",
    "    def getRightChild(self):\n",
    "        return self.rightChild\n",
    "    \n",
    "    def getLeftChild(self):\n",
    "        return self.leftChild\n",
    "    \n",
    "    def setRootVal(self,obj):\n",
    "        self.key = obj\n",
    "        \n",
    "    def getRootVal(self):\n",
    "        return self.key"
   ]
  },
  {
   "cell_type": "code",
   "execution_count": 2,
   "metadata": {},
   "outputs": [],
   "source": [
    "r = BinaryTree('a')"
   ]
  },
  {
   "cell_type": "code",
   "execution_count": 3,
   "metadata": {},
   "outputs": [
    {
     "data": {
      "text/plain": [
       "'a'"
      ]
     },
     "execution_count": 3,
     "metadata": {},
     "output_type": "execute_result"
    }
   ],
   "source": [
    "r.getRootVal()"
   ]
  },
  {
   "cell_type": "code",
   "execution_count": 4,
   "metadata": {},
   "outputs": [
    {
     "name": "stdout",
     "output_type": "stream",
     "text": [
      "None\n"
     ]
    }
   ],
   "source": [
    "print(r.getLeftChild())"
   ]
  },
  {
   "cell_type": "code",
   "execution_count": 5,
   "metadata": {},
   "outputs": [],
   "source": [
    "r.insertLeft('b')"
   ]
  },
  {
   "cell_type": "code",
   "execution_count": 6,
   "metadata": {},
   "outputs": [],
   "source": [
    "r.insertRight('c')"
   ]
  },
  {
   "cell_type": "code",
   "execution_count": 7,
   "metadata": {},
   "outputs": [
    {
     "data": {
      "text/plain": [
       "'c'"
      ]
     },
     "execution_count": 7,
     "metadata": {},
     "output_type": "execute_result"
    }
   ],
   "source": [
    "r.getRightChild().getRootVal()"
   ]
  },
  {
   "cell_type": "markdown",
   "metadata": {},
   "source": [
    "## Tree Traversals"
   ]
  },
  {
   "cell_type": "markdown",
   "metadata": {},
   "source": [
    "### Pre-Order Traversal "
   ]
  },
  {
   "cell_type": "code",
   "execution_count": 8,
   "metadata": {},
   "outputs": [],
   "source": [
    "def preorder(tree):\n",
    "    if tree != None:\n",
    "        print(tree.getRootVal())\n",
    "        preorder(tree.getLeftChild())\n",
    "        preorder(tree.getRightChild())"
   ]
  },
  {
   "cell_type": "code",
   "execution_count": 9,
   "metadata": {},
   "outputs": [
    {
     "name": "stdout",
     "output_type": "stream",
     "text": [
      "a\n",
      "b\n",
      "c\n"
     ]
    }
   ],
   "source": [
    "preorder(r)"
   ]
  },
  {
   "cell_type": "markdown",
   "metadata": {},
   "source": [
    "### In-Order Traversal"
   ]
  },
  {
   "cell_type": "code",
   "execution_count": 10,
   "metadata": {},
   "outputs": [],
   "source": [
    "def inorder(tree):\n",
    "    if tree != None:\n",
    "        inorder(tree.getLeftChild())\n",
    "        print(tree.getRootVal())\n",
    "        inorder(tree.getRightChild())"
   ]
  },
  {
   "cell_type": "code",
   "execution_count": 11,
   "metadata": {},
   "outputs": [
    {
     "name": "stdout",
     "output_type": "stream",
     "text": [
      "b\n",
      "a\n",
      "c\n"
     ]
    }
   ],
   "source": [
    "inorder(r)"
   ]
  },
  {
   "cell_type": "markdown",
   "metadata": {},
   "source": [
    "### Post-Order Traversal"
   ]
  },
  {
   "cell_type": "code",
   "execution_count": 12,
   "metadata": {},
   "outputs": [],
   "source": [
    "def postorder(tree):\n",
    "    if tree != None:\n",
    "        postorder(tree.getLeftChild())\n",
    "        postorder(tree.getRightChild())\n",
    "        print(tree.getRootVal())"
   ]
  },
  {
   "cell_type": "code",
   "execution_count": 13,
   "metadata": {},
   "outputs": [
    {
     "name": "stdout",
     "output_type": "stream",
     "text": [
      "b\n",
      "c\n",
      "a\n"
     ]
    }
   ],
   "source": [
    "postorder(r)"
   ]
  },
  {
   "cell_type": "markdown",
   "metadata": {},
   "source": [
    "### Binary Heap Implementation"
   ]
  },
  {
   "cell_type": "code",
   "execution_count": 19,
   "metadata": {},
   "outputs": [],
   "source": [
    "class BinHeap:\n",
    "    \n",
    "    def __init__(self):\n",
    "        self.heapList = [0]\n",
    "        self.currentSize = 0\n",
    "        \n",
    "    def percUp(self,i):\n",
    "        while i // 2 > 0:\n",
    "            if self.heapList[i] < self.heapList[i // 2]:\n",
    "                temp = self.heapList[i // 2]\n",
    "                self.heapList[i // 2] = self.heapList[i]\n",
    "                self.heapList[i] = temp\n",
    "            i = i//2\n",
    "        \n",
    "    def insert(self,k):\n",
    "        self.heapList.append(k)\n",
    "        self.currentSize = self.currentSize + 1\n",
    "        self.percUp(self.currentSize)\n",
    "        \n",
    "    def percDown(self,i):\n",
    "        while (i*2) <= self.currentSize:\n",
    "            mc = self.minChild(i)\n",
    "            \n",
    "            if self.heapList[i] > self.heapList[mc]:\n",
    "                \n",
    "                temp = self.heapList[i]\n",
    "                self.heapList[i] = self.heapList[mc]\n",
    "                self.heapList[mc] = temp\n",
    "            i = mc\n",
    "    \n",
    "    def minChild(self,i):\n",
    "        \n",
    "        if i*2 + 1 > self.currentSize:\n",
    "            return i*2\n",
    "        else:\n",
    "            if self.heapList[i*2] < self.heapList[i*2+1]:\n",
    "                return i * 2\n",
    "            else:\n",
    "                return i * 2 + 1\n",
    "\n",
    "    def delMin(self):\n",
    "        retval = self.heapList[1]\n",
    "        self.heapList[1] = self.heapList[self.currentSize]\n",
    "        self.currentSize = self.currentSize - 1\n",
    "        self.heapList.pop()\n",
    "        self.percDown(1)\n",
    "        return retval\n",
    "    \n",
    "    def buildHeap(self,alist):\n",
    "        i = len(alist) // 2\n",
    "        self.currentSize = len(alist)\n",
    "        self.heapList = [0] + alist[:]\n",
    "        while(i>0):\n",
    "            self.percDown(i)\n",
    "            i=i-1"
   ]
  },
  {
   "cell_type": "markdown",
   "metadata": {},
   "source": [
    "### Binary Search Tree Implementation"
   ]
  },
  {
   "cell_type": "code",
   "execution_count": 20,
   "metadata": {},
   "outputs": [],
   "source": [
    "class TreeNode:\n",
    "    \n",
    "    def __init__(self,key,val,left=None,right=None,parent=None):\n",
    "        self.key = key\n",
    "        self.payload =  val\n",
    "        self.leftChild = left\n",
    "        self.rightChild = right\n",
    "        self.parent = parent\n",
    "\n",
    "    def hasLeftChild(self):\n",
    "        return self.leftChild\n",
    "    \n",
    "    def hasRightChild(self):\n",
    "        return self.rightChild\n",
    "    \n",
    "    def isLeftChild(self):\n",
    "        return self.parent and self.parent.leftChild == self\n",
    "    \n",
    "    def isRightChild(self):\n",
    "        return self.parent and self.parent.rightChild == self\n",
    "    \n",
    "    def isRoot(self):\n",
    "        return not self.parent\n",
    "    \n",
    "    def isLeaf(self):\n",
    "        return not(self.rightChild or self.LeftChild)\n",
    "    \n",
    "    def hasAnyChildren(self):\n",
    "        return self.rightChild or self.leftChild\n",
    "    \n",
    "    def hasBothChildren(self):\n",
    "        return self.rightChild and self.leftChild\n",
    "    \n",
    "    def replaceNodeData(self,key,value,lc,rc):\n",
    "        self.key = key\n",
    "        self.payload = value\n",
    "        self.rightChild = lc\n",
    "        self.rightChild = rc\n",
    "        if self.hasLeftChild():\n",
    "            self.leftChild.parent = self\n",
    "        if self.hasRightChild():\n",
    "            self.rightChild.parent = self    "
   ]
  },
  {
   "cell_type": "code",
   "execution_count": 31,
   "metadata": {},
   "outputs": [],
   "source": [
    "class BinarySearchTree:\n",
    "    \n",
    "    def __init__(self):\n",
    "        self.root = None\n",
    "        self.size = 0\n",
    "    \n",
    "    def length(self):\n",
    "        return self.szie\n",
    "    \n",
    "    def __len__(self):\n",
    "        return self.size\n",
    "    \n",
    "    def __iter__(self):\n",
    "        return self.root.__iter__()\n",
    "    \n",
    "    def put(self,key,val):\n",
    "        if self.root:\n",
    "            self._put(key,val,self.root)\n",
    "        else:\n",
    "            self.root = TreeNode(key,val)\n",
    "        self.size = self.size + 1\n",
    "    \n",
    "    def _put(self,key,val,currentNode):\n",
    "        if key < currentNode.key:\n",
    "            if currentNode.hasLeftChild():\n",
    "                self._put(key,value,currentNode.leftChild)\n",
    "            else:\n",
    "                currentNode.leftChild = TreeNode(key,val,parent=currentNode)\n",
    "        else:\n",
    "            if currentNode.hasRightChild():\n",
    "                self._put(key,val,currentNode.rightChild)\n",
    "            else:\n",
    "                currentNode.rightChild = TreeNode(key,val,parent=currentNode)\n",
    "    \n",
    "    def __setitem__(self,k,v):\n",
    "        self.put(k,v)\n",
    "    \n",
    "    def get(self,key):\n",
    "        if self.root:\n",
    "            res = self._get(key,self.root)\n",
    "            if res:\n",
    "                return res.payload\n",
    "            else:\n",
    "                return None\n",
    "        else:\n",
    "            return None\n",
    "        \n",
    "    def _get(self,key,currentNode):\n",
    "        if not currentNode:\n",
    "            return None\n",
    "        elif currentNode.key == key:\n",
    "            return currentNode\n",
    "        elif key < currentNode.key:\n",
    "            return self._get(key,currentNode.leftChild)\n",
    "        else:\n",
    "            return self._get(key,currentNode.rightChild)\n",
    "        \n",
    "        \n",
    "    def __getitem__(self,key):\n",
    "        return self.get(key)\n",
    "    \n",
    "    def __contains__(self,key):\n",
    "        if self._get(key,self.root):\n",
    "            return True\n",
    "        else:\n",
    "            return False\n",
    "        \n",
    "    def delete(self,key):\n",
    "        \n",
    "        if self.size > 1:\n",
    "            \n",
    "            nodeToRemove = self._get(key,self.root)\n",
    "            if nodeToRemove:\n",
    "                self.remove(nodeToRemove)\n",
    "                self.size = self.size -1\n",
    "            else:\n",
    "                raise KeyError('Error, key not in tree')\n",
    "        elif self.size == 1 and self.root.key == key:\n",
    "            self.root = None\n",
    "            self.size = self.size - 1\n",
    "        \n",
    "        else: \n",
    "            raise KeyError('Error, key not in tree')\n",
    "            \n",
    "        def __deleteitem__(self,key):\n",
    "            self.delete(key)\n",
    "            \n",
    "        \n",
    "        def spliceOut(self):\n",
    "            if self.isLeaf():\n",
    "                if self.isLeftChild():\n",
    "                    self.parent.leftChild = None\n",
    "                else:\n",
    "                    self.parent.rightChild = None\n",
    "            elif self.hasAnyChildren():\n",
    "                if self.hasLeftChild():\n",
    "                    if self.isLeftChild():\n",
    "                        self.parent.leftChild = self.leftChild\n",
    "                    else:\n",
    "                        self.parent.rightChild = self.rightChild\n",
    "                        self.leftChild.parent = self.parent\n",
    "            else:\n",
    "                 if self.isLeftChild():\n",
    "                    self.parent.leftChild = self.leftChild\n",
    "                 else:\n",
    "                    self.parent.rightChild = self.rightChild\n",
    "                    self.rightChild.parent = self.parent\n",
    "                        \n",
    "        def findSuccessor(self):\n",
    "        \n",
    "            succ = None\n",
    "            if self.hasRightChild():\n",
    "                succ = self.rightChild.findMin()\n",
    "            else:\n",
    "                if self.parent:\n",
    "\n",
    "                    if self.isLeftChild():\n",
    "\n",
    "                        succ = self.parent\n",
    "                    else:\n",
    "                        self.parent.rightChild = None\n",
    "                        succ = self.parent.findSuccessor()\n",
    "                        self.parent.rightChild = self\n",
    "            return succ\n",
    "    \n",
    "    \n",
    "        def findMin(self):\n",
    "        \n",
    "            current = self\n",
    "            while current.hasLeftChild():\n",
    "                current = current.leftChild\n",
    "            return current\n",
    "\n",
    "        def remove(self,currentNode):\n",
    "        \n",
    "            if currentNode.isLeaf(): #leaf\n",
    "                if currentNode == currentNode.parent.leftChild:\n",
    "                    currentNode.parent.leftChild = None\n",
    "                else:\n",
    "                    currentNode.parent.rightChild = None\n",
    "            elif currentNode.hasBothChildren(): #interior\n",
    "\n",
    "                succ = currentNode.findSuccessor()\n",
    "                succ.spliceOut()\n",
    "                currentNode.key = succ.key\n",
    "                currentNode.payload = succ.payload\n",
    "\n",
    "            else: # this node has one child\n",
    "                if currentNode.hasLeftChild():\n",
    "                    if currentNode.isLeftChild():\n",
    "                        currentNode.leftChild.parent = currentNode.parent\n",
    "                        currentNode.parent.leftChild = currentNode.leftChild\n",
    "                    elif currentNode.isRightChild():\n",
    "                        currentNode.rightChild.parent = currentNode.parent\n",
    "                        currentNode.parent.rightChild = currentNode.rightChild\n",
    "                    else:\n",
    "\n",
    "                        currentNode.replaceNodeData(currentNode.leftChild.key,\n",
    "                                        currentNode.leftChild.payload,\n",
    "                                        currentNode.leftChild.leftChild,\n",
    "                                        currentNode.leftChild.rightChild)\n",
    "                else:\n",
    "\n",
    "                    if currentNode.isLeftChild():\n",
    "                        currentNode.leftChild.parent = currentNode.parent\n",
    "                        currentNode.parent.leftChild = currentNode.leftChild\n",
    "                    elif currentNode.isRightChild():\n",
    "                        currentNode.rightChild.parent = currentNode.parent\n",
    "                        currentNode.parent.rightChild = currentNode.rightChild\n",
    "                    else:\n",
    "                        currentNode.replaceNodeData(currentNode.rightChild.key,\n",
    "                                        currentNode.rightChild.payload,\n",
    "                                        currentNode.rightChild.leftChild,\n",
    "                                        currentNode.rightChild.rightChild)"
   ]
  },
  {
   "cell_type": "markdown",
   "metadata": {},
   "source": [
    "### Binary Search Tree Check"
   ]
  },
  {
   "cell_type": "code",
   "execution_count": 36,
   "metadata": {},
   "outputs": [
    {
     "data": {
      "text/plain": [
       "True"
      ]
     },
     "execution_count": 36,
     "metadata": {},
     "output_type": "execute_result"
    }
   ],
   "source": [
    "tree_vals = []\n",
    "\n",
    "def inorder(tree):\n",
    "    if tree != None:\n",
    "        inorder(tree.getLeftChild())\n",
    "        tree_vals.append(tree.getRootVal())\n",
    "        inorder(tree.getRightChild())\n",
    "\n",
    "def sort_check(tree_vals):\n",
    "    return tree_vals == sorted(tree_vals)\n",
    "\n",
    "#inorder(tree)\n",
    "sort_check(tree_vals)"
   ]
  },
  {
   "cell_type": "code",
   "execution_count": 37,
   "metadata": {},
   "outputs": [],
   "source": [
    "class Node:\n",
    "    def __init__(self, k, val):\n",
    "        self.key = k\n",
    "        self.value = val\n",
    "        self.left = None\n",
    "        self.right = None\n",
    "\n",
    "def tree_max(node):\n",
    "    if not node:\n",
    "        return float(\"-inf\")\n",
    "    maxleft  = tree_max(node.left)\n",
    "    maxright = tree_max(node.right)\n",
    "    return max(node.key, maxleft, maxright)\n",
    "\n",
    "def tree_min(node):\n",
    "    if not node:\n",
    "        return float(\"inf\")\n",
    "    minleft  = tree_min(node.left)\n",
    "    minright = tree_min(node.right)\n",
    "    return min(node.key, minleft, minright)\n",
    "\n",
    "def verify(node):\n",
    "    if not node:\n",
    "        return True\n",
    "    if (tree_max(node.left) <= node.key <= tree_min(node.right) and\n",
    "        verify(node.left) and verify(node.right)):\n",
    "        return True\n",
    "    else:\n",
    "        return False"
   ]
  },
  {
   "cell_type": "code",
   "execution_count": 38,
   "metadata": {},
   "outputs": [
    {
     "name": "stdout",
     "output_type": "stream",
     "text": [
      "True\n"
     ]
    }
   ],
   "source": [
    "root= Node(10, \"Hello\")\n",
    "root.left = Node(5, \"Five\")\n",
    "root.right= Node(30, \"Thirty\")\n",
    "\n",
    "print(verify(root))"
   ]
  },
  {
   "cell_type": "code",
   "execution_count": 39,
   "metadata": {},
   "outputs": [
    {
     "name": "stdout",
     "output_type": "stream",
     "text": [
      "False\n"
     ]
    }
   ],
   "source": [
    "root = Node(10, \"Ten\")\n",
    "root.right = Node(20, \"Twenty\")\n",
    "root.left = Node(5, \"Five\")\n",
    "root.left.right = Node(15, \"Fifteen\")\n",
    "\n",
    "print(verify(root))"
   ]
  },
  {
   "cell_type": "markdown",
   "metadata": {},
   "source": [
    "### Tree Level Order Print"
   ]
  },
  {
   "cell_type": "code",
   "execution_count": 40,
   "metadata": {},
   "outputs": [],
   "source": [
    "class Node:\n",
    "    def __init__(self, val=None):\n",
    "        self.left = None\n",
    "        self.right = None\n",
    "        self.val =  val "
   ]
  },
  {
   "cell_type": "code",
   "execution_count": 44,
   "metadata": {},
   "outputs": [],
   "source": [
    "def levelOrderPrint(tree):\n",
    "    if not tree:\n",
    "        return\n",
    "    nodes=collections.deque([tree])\n",
    "    currentCount, nextCount = 1, 0\n",
    "    while len(nodes)!=0:\n",
    "        currentNode=nodes.popleft()\n",
    "        currentCount-=1\n",
    "        print(currentNode.val)\n",
    "        if currentNode.left:\n",
    "            nodes.append(currentNode.left)\n",
    "            nextCount+=1\n",
    "        if currentNode.right:\n",
    "            nodes.append(currentNode.right)\n",
    "            nextCount+=1\n",
    "        if currentCount==0:\n",
    "            #finished printing current level\n",
    "            print ('\\n')\n",
    "            currentCount, nextCount = nextCount, currentCount"
   ]
  },
  {
   "cell_type": "markdown",
   "metadata": {},
   "source": [
    "### Trim a Binary Search Tree"
   ]
  },
  {
   "cell_type": "code",
   "execution_count": 45,
   "metadata": {},
   "outputs": [],
   "source": [
    "def trimBST(tree, minVal, maxVal): \n",
    "    \n",
    "    if not tree: \n",
    "        return \n",
    "    \n",
    "    tree.left=trimBST(tree.left, minVal, maxVal) \n",
    "    tree.right=trimBST(tree.right, minVal, maxVal) \n",
    "    \n",
    "    if minVal<=tree.val<=maxVal: \n",
    "        return tree \n",
    "    \n",
    "    if tree.val<minVal: \n",
    "        return tree.right \n",
    "    \n",
    "    if tree.val>maxVal: \n",
    "        return tree.left "
   ]
  }
 ],
 "metadata": {
  "kernelspec": {
   "display_name": "Python 3",
   "language": "python",
   "name": "python3"
  },
  "language_info": {
   "codemirror_mode": {
    "name": "ipython",
    "version": 3
   },
   "file_extension": ".py",
   "mimetype": "text/x-python",
   "name": "python",
   "nbconvert_exporter": "python",
   "pygments_lexer": "ipython3",
   "version": "3.6.5"
  }
 },
 "nbformat": 4,
 "nbformat_minor": 2
}
