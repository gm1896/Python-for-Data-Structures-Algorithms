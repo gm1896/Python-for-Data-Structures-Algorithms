{
 "cells": [
  {
   "cell_type": "markdown",
   "metadata": {},
   "source": [
    "# Sequential Search"
   ]
  },
  {
   "cell_type": "code",
   "execution_count": 1,
   "metadata": {},
   "outputs": [],
   "source": [
    "def seq_search(arr,ele):\n",
    "    \n",
    "    pos = 0\n",
    "    found = False\n",
    "    \n",
    "    while pos<len(arr) and not found:\n",
    "        \n",
    "        if arr[pos] == ele:\n",
    "            found = True\n",
    "        else:\n",
    "            pos += 1\n",
    "    return found "
   ]
  },
  {
   "cell_type": "code",
   "execution_count": 3,
   "metadata": {},
   "outputs": [
    {
     "data": {
      "text/plain": [
       "True"
      ]
     },
     "execution_count": 3,
     "metadata": {},
     "output_type": "execute_result"
    }
   ],
   "source": [
    "arr = [1,2,3,4,5]\n",
    "seq_search(arr,5)"
   ]
  },
  {
   "cell_type": "code",
   "execution_count": 4,
   "metadata": {},
   "outputs": [],
   "source": [
    "def ordered_seq_search(arr,ele):\n",
    "    \n",
    "    \"\"\"\"\n",
    "    Input Array must be ordered/sorted!\n",
    "    \"\"\"\n",
    "    \n",
    "    pos = 0\n",
    "    found = False\n",
    "    stopped = False\n",
    "    \n",
    "    while pos<len(arr) and not found and not stopped:\n",
    "        \n",
    "        if arr[pos] == ele:\n",
    "            found = True\n",
    "        else:\n",
    "            if arr[pos] > ele:\n",
    "                stopped = True\n",
    "            else:\n",
    "                pos += 1       \n",
    "    return found "
   ]
  },
  {
   "cell_type": "code",
   "execution_count": 13,
   "metadata": {},
   "outputs": [
    {
     "data": {
      "text/plain": [
       "False"
      ]
     },
     "execution_count": 13,
     "metadata": {},
     "output_type": "execute_result"
    }
   ],
   "source": [
    "arr = [1,2,3,4,5,6,7,8,9,10]\n",
    "ordered_seq_search(arr,12)"
   ]
  },
  {
   "cell_type": "markdown",
   "metadata": {},
   "source": [
    "# Binary Search"
   ]
  },
  {
   "cell_type": "code",
   "execution_count": 18,
   "metadata": {},
   "outputs": [],
   "source": [
    "def binary_search(arr,ele):\n",
    "\n",
    "    first = 0\n",
    "    last = len(arr)-1\n",
    "    \n",
    "    found = False\n",
    "    \n",
    "    while first <= last and not found:\n",
    "        \n",
    "        mid = (first+last)//2\n",
    "        \n",
    "        if arr[mid] == ele:\n",
    "            found = True\n",
    "        else:\n",
    "            if ele < arr[mid]:\n",
    "                last = mid-1\n",
    "            else:\n",
    "                first = mid+1\n",
    "    return found"
   ]
  },
  {
   "cell_type": "code",
   "execution_count": 20,
   "metadata": {},
   "outputs": [
    {
     "data": {
      "text/plain": [
       "True"
      ]
     },
     "execution_count": 20,
     "metadata": {},
     "output_type": "execute_result"
    }
   ],
   "source": [
    "arr = [1,2,3,4,5,6,7,8,9,10]\n",
    "binary_search(arr,8)"
   ]
  },
  {
   "cell_type": "code",
   "execution_count": 31,
   "metadata": {},
   "outputs": [],
   "source": [
    "def recursive_binary_search(arr,ele):\n",
    "    \n",
    "    if len(arr) == 0:\n",
    "        return False\n",
    "    else:\n",
    "        mid = len(arr)//2\n",
    "        if arr[mid] ==  ele:\n",
    "            return True\n",
    "        else:\n",
    "            if ele<arr[mid]:\n",
    "                return recursive_binary_search(arr[:mid],ele)\n",
    "            else:\n",
    "                return recursive_binary_search(arr[mid+1:],ele)   "
   ]
  },
  {
   "cell_type": "code",
   "execution_count": 33,
   "metadata": {},
   "outputs": [
    {
     "data": {
      "text/plain": [
       "False"
      ]
     },
     "execution_count": 33,
     "metadata": {},
     "output_type": "execute_result"
    }
   ],
   "source": [
    "arr = [1,2,3,4,5,6,7,8,9,10]\n",
    "recursive_binary_search(arr,13)"
   ]
  },
  {
   "cell_type": "markdown",
   "metadata": {},
   "source": [
    "# Hashing "
   ]
  },
  {
   "cell_type": "markdown",
   "metadata": {},
   "source": [
    "# Implementation of HashTable"
   ]
  },
  {
   "cell_type": "code",
   "execution_count": 45,
   "metadata": {},
   "outputs": [],
   "source": [
    "class hashTable(object):\n",
    "    \n",
    "    def __init__(self,size):\n",
    "        self.size = size\n",
    "        self.slots = [None] * self.size\n",
    "        self.data = [None]  * self.size\n",
    "        \n",
    "    def put(self,key,data):\n",
    "        \n",
    "        hashvalue = self.hashfunction(key,len(self.slots))\n",
    "        \n",
    "        if self.slots[hashvalue] == None:\n",
    "            self.slots[hashvalue] = key\n",
    "            self.data[hashvalue] = data\n",
    "        else:\n",
    "            \n",
    "            if self.slots[hashvalue] == key:\n",
    "                self.data[hashvalue] = data\n",
    "            else:\n",
    "                nextslot = self.rehash(hashvalue,len(self.slots))\n",
    "                \n",
    "                while self.slots[nextslot] != None and self.slots[nextslot]!= key:\n",
    "                    nextslot = self.rehash(nextslot,len(self.slots))\n",
    "                    \n",
    "                if self.slots[nextslot] == None:\n",
    "                    self.slots[nextslot] = key\n",
    "                    self.data[nextslot] = data\n",
    "                else:\n",
    "                    self.data[nextslot] = data\n",
    "                \n",
    "                \n",
    "    def hashfunction(slef,key,size):\n",
    "        return key % size\n",
    "    \n",
    "    def rehash(self,oldhash,size):\n",
    "        return(oldhash+1)%size\n",
    "    \n",
    "    def get(self,key):\n",
    "        \n",
    "        startslot = self.hashfunction(key,len(self.slots))\n",
    "        data = None\n",
    "        stop = False\n",
    "        found = False\n",
    "        position = startslot\n",
    "        \n",
    "        while self.slots[position]!= None and not found and not stop:\n",
    "            if self.slots[position] == key:\n",
    "                found = True\n",
    "                data = self.data[position]\n",
    "            else:\n",
    "                position = self.rehash(position,len(self.slots))\n",
    "                if position == startslot:\n",
    "                    stop = True\n",
    "        return data  \n",
    "    \n",
    "    \n",
    "    def __getitem__(self,key):\n",
    "        return self.get(key)\n",
    "    \n",
    "    def __setitem__(self,key,data):\n",
    "        self.put(key,data)"
   ]
  },
  {
   "cell_type": "code",
   "execution_count": 46,
   "metadata": {},
   "outputs": [],
   "source": [
    "h = hashTable(5)\n",
    "h[1] = \"one\"\n",
    "h[2] = \"two\"\n",
    "h[3] = \"three\""
   ]
  },
  {
   "cell_type": "code",
   "execution_count": 47,
   "metadata": {},
   "outputs": [
    {
     "data": {
      "text/plain": [
       "'one'"
      ]
     },
     "execution_count": 47,
     "metadata": {},
     "output_type": "execute_result"
    }
   ],
   "source": [
    "h[1]"
   ]
  },
  {
   "cell_type": "code",
   "execution_count": 49,
   "metadata": {},
   "outputs": [
    {
     "data": {
      "text/plain": [
       "'two'"
      ]
     },
     "execution_count": 49,
     "metadata": {},
     "output_type": "execute_result"
    }
   ],
   "source": [
    "h[2]"
   ]
  },
  {
   "cell_type": "code",
   "execution_count": 51,
   "metadata": {},
   "outputs": [
    {
     "data": {
      "text/plain": [
       "'three'"
      ]
     },
     "execution_count": 51,
     "metadata": {},
     "output_type": "execute_result"
    }
   ],
   "source": [
    "h[3]"
   ]
  },
  {
   "cell_type": "markdown",
   "metadata": {},
   "source": [
    "# Sorting Algorithms"
   ]
  },
  {
   "cell_type": "markdown",
   "metadata": {},
   "source": [
    "# Bubble Sort"
   ]
  },
  {
   "cell_type": "code",
   "execution_count": 81,
   "metadata": {},
   "outputs": [],
   "source": [
    "def bubble_sort(arr):\n",
    "    \n",
    "    for n in range(len(arr)-1,0,-1):\n",
    "        #print(\"This is the n:\",n)\n",
    "        for k in range(n):\n",
    "            #print(\"This is the k index check:\",k)\n",
    "            if arr[k] > arr[k+1]:\n",
    "                temp = arr[k]\n",
    "                arr[k] = arr[k+1]\n",
    "                arr[k+1] = temp\n",
    "                #print(arr[k])\n",
    "                #print(arr[k+1])\n",
    "    return arr"
   ]
  },
  {
   "cell_type": "code",
   "execution_count": 82,
   "metadata": {},
   "outputs": [
    {
     "data": {
      "text/plain": [
       "[2, 3, 5, 7]"
      ]
     },
     "execution_count": 82,
     "metadata": {},
     "output_type": "execute_result"
    }
   ],
   "source": [
    "arr = [5,3,7,2]\n",
    "bubble_sort(arr)"
   ]
  },
  {
   "cell_type": "markdown",
   "metadata": {},
   "source": [
    "# Selection Sort"
   ]
  },
  {
   "cell_type": "code",
   "execution_count": 102,
   "metadata": {},
   "outputs": [],
   "source": [
    "def selection_sort(arr):\n",
    "    \n",
    "    for f in range(len(arr)-1,0,-1):\n",
    "        maxi = 0\n",
    "        for l in range(1,f+1):\n",
    "            if arr[l] > arr[maxi]:\n",
    "                maxi = l\n",
    "        temp = arr[f]\n",
    "        arr[f] = arr[maxi]\n",
    "        arr[maxi] = temp\n",
    "      \n",
    "    return arr"
   ]
  },
  {
   "cell_type": "code",
   "execution_count": 103,
   "metadata": {},
   "outputs": [
    {
     "data": {
      "text/plain": [
       "[2, 4, 7, 9, 10, 12]"
      ]
     },
     "execution_count": 103,
     "metadata": {},
     "output_type": "execute_result"
    }
   ],
   "source": [
    "arr = [10,4,2,7,12,9]\n",
    "selection_sort(arr)"
   ]
  },
  {
   "cell_type": "markdown",
   "metadata": {},
   "source": [
    "# Insertion Sort"
   ]
  },
  {
   "cell_type": "code",
   "execution_count": 135,
   "metadata": {},
   "outputs": [],
   "source": [
    "def insertion_sort(arr):\n",
    "    \n",
    "    for i in range(1,len(arr)):\n",
    "        currentValue = arr[i]\n",
    "        position = i\n",
    "        while position > 0 and arr[position-1]>currentValue:\n",
    "            \n",
    "            arr[position] = arr[position-1]\n",
    "            position = position - 1\n",
    "           \n",
    "        arr[position] = currentValue\n",
    "    return arr"
   ]
  },
  {
   "cell_type": "code",
   "execution_count": 136,
   "metadata": {},
   "outputs": [
    {
     "data": {
      "text/plain": [
       "[2, 3, 4, 7, 9, 10, 12, 25, 30]"
      ]
     },
     "execution_count": 136,
     "metadata": {},
     "output_type": "execute_result"
    }
   ],
   "source": [
    "arr = [10,4,2,7,3,25,30,12,9]\n",
    "insertion_sort(arr)"
   ]
  },
  {
   "cell_type": "markdown",
   "metadata": {},
   "source": [
    "# Shell Sort"
   ]
  },
  {
   "cell_type": "code",
   "execution_count": 8,
   "metadata": {},
   "outputs": [],
   "source": [
    "def shell_sort(arr):\n",
    "    \n",
    "    sublistcount = len(arr)//2\n",
    "    \n",
    "    while sublistcount > 0:\n",
    "        for start in range(sublistcount):\n",
    "            gap_insertion_sort(arr,start,sublistcount)\n",
    "            \n",
    "        print(\"After Increments of size:\",sublistcount)\n",
    "        print(\"The list is\",arr)\n",
    "        sublistcount = sublistcount//2\n",
    "\n",
    "def gap_insertion_sort(arr,start,gap):\n",
    "    \n",
    "    for i in range(start+gap,len(arr),gap):\n",
    "        \n",
    "        currentvalue = arr[i]\n",
    "        position = i\n",
    "        \n",
    "        while position >= gap and arr[position-gap] > currentvalue:\n",
    "            \n",
    "            arr[position] = arr[position-gap]\n",
    "            position = position - gap\n",
    "            \n",
    "        arr[position] = currentvalue"
   ]
  },
  {
   "cell_type": "code",
   "execution_count": 10,
   "metadata": {},
   "outputs": [
    {
     "name": "stdout",
     "output_type": "stream",
     "text": [
      "After Increments of size: 5\n",
      "The list is [10, 4, 2, 7, 3, 25, 30, 12, 9, 13]\n",
      "After Increments of size: 2\n",
      "The list is [2, 4, 3, 7, 9, 12, 10, 13, 30, 25]\n",
      "After Increments of size: 1\n",
      "The list is [2, 3, 4, 7, 9, 10, 12, 13, 25, 30]\n"
     ]
    },
    {
     "data": {
      "text/plain": [
       "[2, 3, 4, 7, 9, 10, 12, 13, 25, 30]"
      ]
     },
     "execution_count": 10,
     "metadata": {},
     "output_type": "execute_result"
    }
   ],
   "source": [
    "arr = [10,4,2,7,3,25,30,12,9,13]\n",
    "shell_sort(arr)\n",
    "arr"
   ]
  },
  {
   "cell_type": "markdown",
   "metadata": {},
   "source": [
    "# Merge Sort"
   ]
  },
  {
   "cell_type": "code",
   "execution_count": 15,
   "metadata": {},
   "outputs": [],
   "source": [
    "def merge_sort(arr):\n",
    "    \n",
    "    if len(arr) > 1:\n",
    "        mid = len(arr)//2\n",
    "        lefthalf = arr[:mid]\n",
    "        righthalf = arr[mid:]\n",
    "        \n",
    "        merge_sort(lefthalf)\n",
    "        merge_sort(righthalf)\n",
    "        \n",
    "        i=0\n",
    "        j=0\n",
    "        k=0\n",
    "        \n",
    "        while i < len(lefthalf) and j < len(righthalf):\n",
    "            \n",
    "            if lefthalf[i] < righthalf[j]:\n",
    "                arr[k] = lefthalf[i]\n",
    "                i += 1\n",
    "            else:\n",
    "                arr[k] = righthalf[j]\n",
    "                j += 1\n",
    "            k += 1\n",
    "        \n",
    "        while i < len(lefthalf):\n",
    "            arr[k] = lefthalf[i]\n",
    "            i += 1\n",
    "            k += 1\n",
    "            \n",
    "        while j < len(righthalf):\n",
    "            arr[k] = righthalf[j]\n",
    "            j += 1\n",
    "            k += 1\n",
    "    \n",
    "    print(\"Merging\",arr)"
   ]
  },
  {
   "cell_type": "code",
   "execution_count": 17,
   "metadata": {},
   "outputs": [
    {
     "name": "stdout",
     "output_type": "stream",
     "text": [
      "Merging [10]\n",
      "Merging [4]\n",
      "Merging [4, 10]\n",
      "Merging [2]\n",
      "Merging [7]\n",
      "Merging [2, 7]\n",
      "Merging [2, 4, 7, 10]\n",
      "Merging [3]\n",
      "Merging [25]\n",
      "Merging [3, 25]\n",
      "Merging [30]\n",
      "Merging [12]\n",
      "Merging [9]\n",
      "Merging [9, 12]\n",
      "Merging [9, 12, 30]\n",
      "Merging [3, 9, 12, 25, 30]\n",
      "Merging [2, 3, 4, 7, 9, 10, 12, 25, 30]\n"
     ]
    },
    {
     "data": {
      "text/plain": [
       "[2, 3, 4, 7, 9, 10, 12, 25, 30]"
      ]
     },
     "execution_count": 17,
     "metadata": {},
     "output_type": "execute_result"
    }
   ],
   "source": [
    "arr = [10,4,2,7,3,25,30,12,9]\n",
    "merge_sort(arr)\n",
    "arr"
   ]
  },
  {
   "cell_type": "markdown",
   "metadata": {},
   "source": [
    "# Quick Sort"
   ]
  },
  {
   "cell_type": "code",
   "execution_count": 18,
   "metadata": {},
   "outputs": [],
   "source": [
    "def quick_sort(arr):\n",
    "    quick_sort_help(arr,0,len(arr)-1)\n",
    "\n",
    "def quick_sort_help(arr,first,last):\n",
    "    if first < last:\n",
    "        splitpoint = partition(arr,first,last)\n",
    "        \n",
    "        quick_sort_help(arr,first,splitpoint-1)\n",
    "        quick_sort_help(arr,splitpoint+1,last)\n",
    "        \n",
    "def partition(arr,first,last):\n",
    "    \n",
    "        pivotvalue = arr[first]\n",
    "        \n",
    "        leftmark = first+1\n",
    "        rightmark = last\n",
    "        \n",
    "        done = False\n",
    "        \n",
    "        while not done:\n",
    "            \n",
    "            while leftmark <= rightmark and arr[leftmark] < pivotvalue:\n",
    "                leftmark += 1\n",
    "            while arr[rightmark] > pivotvalue and rightmark >=  leftmark:\n",
    "                rightmark -= 1\n",
    "            if rightmark < leftmark:\n",
    "                done = True\n",
    "            else:\n",
    "                temp = arr[leftmark]\n",
    "                arr[leftmark] = arr[rightmark]\n",
    "                arr[rightmark] = temp\n",
    "            \n",
    "        temp = arr[first]\n",
    "        arr[first] = arr[rightmark]\n",
    "        arr[rightmark] = temp\n",
    "        \n",
    "        return rightmark            "
   ]
  },
  {
   "cell_type": "code",
   "execution_count": null,
   "metadata": {},
   "outputs": [],
   "source": []
  },
  {
   "cell_type": "code",
   "execution_count": null,
   "metadata": {},
   "outputs": [],
   "source": []
  },
  {
   "cell_type": "code",
   "execution_count": null,
   "metadata": {},
   "outputs": [],
   "source": []
  },
  {
   "cell_type": "code",
   "execution_count": null,
   "metadata": {},
   "outputs": [],
   "source": []
  },
  {
   "cell_type": "code",
   "execution_count": null,
   "metadata": {},
   "outputs": [],
   "source": []
  }
 ],
 "metadata": {
  "kernelspec": {
   "display_name": "Python 3",
   "language": "python",
   "name": "python3"
  },
  "language_info": {
   "codemirror_mode": {
    "name": "ipython",
    "version": 3
   },
   "file_extension": ".py",
   "mimetype": "text/x-python",
   "name": "python",
   "nbconvert_exporter": "python",
   "pygments_lexer": "ipython3",
   "version": "3.6.5"
  }
 },
 "nbformat": 4,
 "nbformat_minor": 2
}
